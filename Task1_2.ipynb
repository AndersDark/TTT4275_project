{
 "cells": [
  {
   "cell_type": "markdown",
   "metadata": {},
   "source": [
    "# Code"
   ]
  },
  {
   "cell_type": "markdown",
   "metadata": {},
   "source": [
    "### Imports"
   ]
  },
  {
   "cell_type": "code",
   "execution_count": null,
   "metadata": {},
   "outputs": [],
   "source": [
    "import pandas as pd\n",
    "import numpy as np\n",
    "import matplotlib.pyplot as plt\n",
    "from task1_utils import generateDataVectors,forward_pass,loss,getConfused,getErrorRate"
   ]
  },
  {
   "cell_type": "markdown",
   "metadata": {},
   "source": [
    "### Data loading"
   ]
  },
  {
   "cell_type": "code",
   "execution_count": null,
   "metadata": {},
   "outputs": [],
   "source": [
    "features = [\"SepalLength\",\n",
    "            \"SepalWidth\",\n",
    "            \"PetalLength\",\n",
    "            \"PetalWidth\",\n",
    "            \"Class\"]\n",
    "\n",
    "irisData = pd.read_csv(\"data/IrisData/iris.data\", \n",
    "                   names=features)"
   ]
  },
  {
   "cell_type": "code",
   "execution_count": null,
   "metadata": {},
   "outputs": [],
   "source": [
    "# Plot histogram by class\n",
    "classes = irisData['Class'].unique()\n",
    "for f_idx in range(4):\n",
    "    plt.figure()\n",
    "    for c in classes:\n",
    "        subset = irisData[irisData['Class'] == c]\n",
    "        plt.hist(subset[features[f_idx]], bins=15, alpha=0.6, label=f'Class {c}')\n",
    "\n",
    "    plt.xlabel(f'{features[f_idx]}')\n",
    "    plt.ylabel('Frequency')\n",
    "    plt.title(f'Histogram of {features[f_idx]} by Class')\n",
    "    plt.legend()\n",
    "    plt.show()"
   ]
  },
  {
   "cell_type": "code",
   "execution_count": null,
   "metadata": {},
   "outputs": [],
   "source": [
    "# Take 30 first samples of each Class for training\n",
    "train_data = irisData.groupby(\"Class\").head(30)\n",
    "test_data = irisData.drop(train_data.index)\n",
    "train_data.reset_index(drop=True, inplace=True)\n",
    "test_data.reset_index(drop=True, inplace=True)\n",
    "\n",
    "# Drop features for training\n",
    "drop_features = [\"SepalWidth\", \"SepalLength\", \"PetalLength\"]\n",
    "train_data = train_data.drop(drop_features, axis=1)\n",
    "test_data = test_data.drop(drop_features, axis=1)\n",
    "\n",
    "# Generate data vectors\n",
    "x_train, t_train = generateDataVectors(train_data)\n",
    "x_test, t_test = generateDataVectors(test_data)\n",
    "\n",
    "print(x_train.shape, t_train.shape, x_test.shape, t_test.shape)"
   ]
  },
  {
   "cell_type": "markdown",
   "metadata": {},
   "source": [
    "### Training"
   ]
  },
  {
   "cell_type": "code",
   "execution_count": null,
   "metadata": {},
   "outputs": [],
   "source": [
    "# initialize the weights\n",
    "np.random.seed(42)\n",
    "\n",
    "n_features = x_train.shape[0]\n",
    "n_classes = t_train.shape[0]\n",
    "\n",
    "W = np.random.randn(n_classes,n_features)"
   ]
  },
  {
   "cell_type": "code",
   "execution_count": null,
   "metadata": {},
   "outputs": [],
   "source": [
    "alpha = 0.001\n",
    "iterations = 10**6\n",
    "\n",
    "for i in range(iterations):\n",
    "    g = forward_pass(x_train, W)\n",
    "\n",
    "    MSE = loss(g,t_train)\n",
    "\n",
    "    # Backward pass\n",
    "    grad_MSE = ((g-t_train)*g*(1-g))@x_train.transpose()\n",
    "\n",
    "    W -= alpha*grad_MSE\n",
    "\n",
    "print(MSE)"
   ]
  },
  {
   "cell_type": "markdown",
   "metadata": {},
   "source": [
    "### Prediction"
   ]
  },
  {
   "cell_type": "code",
   "execution_count": null,
   "metadata": {},
   "outputs": [],
   "source": [
    "predictions_train = forward_pass(x_train,W)\n",
    "predictions_test = forward_pass(x_test,W)\n",
    "\n",
    "train_conf_matrix = getConfused(predictions_train, t_train)\n",
    "test_conf_matrix = getConfused(predictions_test, t_test)\n",
    "\n",
    "print(train_conf_matrix)\n",
    "print(f\"{getErrorRate(train_conf_matrix):.4f}\")\n",
    "print(test_conf_matrix)\n",
    "print(f\"{getErrorRate(test_conf_matrix):.4f}\")"
   ]
  },
  {
   "cell_type": "markdown",
   "metadata": {},
   "source": [
    "# Results"
   ]
  },
  {
   "cell_type": "markdown",
   "metadata": {},
   "source": [
    "## 3 features - SepalWith removed:\n",
    "\n",
    "MSE = 9.594\n",
    "\n",
    "### Validation with training data:\n",
    "[30.  0.  0.]\\\n",
    "[ 0. 29.  1.]\\\n",
    "[ 0.  0. 30.]\n",
    "\n",
    "Error rate = 0.0110\n",
    "### Validation with test data:\n",
    "[20.  0.  0.]\\\n",
    "[ 0. 18.  2.]\\\n",
    "[ 0.  1. 19.]\n",
    "\n",
    "Error rate = 0.0500\n",
    "\n",
    "## 2 features - Petal remaining - Sepal removed\n",
    "\n",
    "MSE = 10.366\n",
    "\n",
    "### Validation with training data:\n",
    "[30.  0.  0.]\\\n",
    "[ 0. 28.  2.]\\\n",
    "[ 0.  1. 29.]\n",
    "\n",
    "Error rate = 0.0333\n",
    "### Validation with test data:\n",
    "[20.  0.  0.]\\\n",
    "[ 0. 20.  0.]\\\n",
    "[ 0.  2. 18.]\n",
    "\n",
    "Error rate = 0.0333\n",
    "\n",
    "## 1 feature - Petalwidth:\n",
    "\n",
    "MSE = 11.311\n",
    "\n",
    "### Validation with training data:\n",
    "[30.  0.  0.]\\\n",
    "[ 0. 28.  2.]\\\n",
    "[ 0.  2. 28.]\n",
    "\n",
    "Error rate = 0.0444\n",
    "### Validation with test data:\n",
    "[20.  0.  0.]\\\n",
    "[ 0. 20.  0.]\\\n",
    "[ 0.  2. 18.]\n",
    "\n",
    "Error rate = 0.0333\n",
    "\n",
    "## 1 feature - PetalLength:\n",
    "\n",
    "MSE = 11.585\n",
    "\n",
    "### Validation with training data:\n",
    "[30.  0.  0.]\\\n",
    "[ 0. 27.  3.]\\\n",
    "[ 0.  2. 28.]\n",
    "\n",
    "Error rate = 0.0588\n",
    "\n",
    "### Validation with test data:\n",
    "[20.  0.  0.]\\\n",
    "[ 0. 19.  1.]\\\n",
    "[ 0.  1. 19.]\n",
    "\n",
    "Error rate = 0.0345\n",
    "\n",
    "\n"
   ]
  }
 ],
 "metadata": {
  "kernelspec": {
   "display_name": "ttt4275",
   "language": "python",
   "name": "python3"
  },
  "language_info": {
   "codemirror_mode": {
    "name": "ipython",
    "version": 3
   },
   "file_extension": ".py",
   "mimetype": "text/x-python",
   "name": "python",
   "nbconvert_exporter": "python",
   "pygments_lexer": "ipython3",
   "version": "3.10.16"
  }
 },
 "nbformat": 4,
 "nbformat_minor": 2
}

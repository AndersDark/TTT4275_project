{
 "cells": [
  {
   "cell_type": "code",
   "execution_count": null,
   "metadata": {},
   "outputs": [],
   "source": [
    "import matplotlib.pyplot as plt\n",
    "import pandas as pd\n",
    "from matplotlib.lines import Line2D\n",
    "%matplotlib inline\n"
   ]
  },
  {
   "cell_type": "code",
   "execution_count": 2,
   "metadata": {},
   "outputs": [],
   "source": [
    "features = [\"SepalLenght\",\n",
    "            \"SepalWidth\",\n",
    "            \"PetalLenght\",\n",
    "            \"PetalWidth\",\n",
    "            \"Class\"]\n",
    "\n",
    "irisData = pd.read_csv(\"data/IrisData/iris.data\", \n",
    "                   names=features)"
   ]
  },
  {
   "cell_type": "code",
   "execution_count": 3,
   "metadata": {},
   "outputs": [],
   "source": [
    "def scatterTwoFeatures(irisData, f1: str, f2: str):\n",
    "    classToColor = {\"Iris-versicolor\" : \"blue\",\n",
    "                \"Iris-setosa\": \"purple\",\n",
    "                \"Iris-virginica\": \"hotpink\"}\n",
    "\n",
    "    plt.figure()\n",
    "    plt.scatter(irisData[f1],\n",
    "                irisData[f2],\n",
    "                c=irisData[\"Class\"].map(classToColor),\n",
    "                marker='x')\n",
    "    # Create custom legend handles\n",
    "    legend_handles = [\n",
    "        Line2D([0], [0], color=color, marker='x', linestyle='None', label=class_name)\n",
    "        for class_name, color in classToColor.items()\n",
    "    ]\n",
    "\n",
    "    plt.legend(handles=legend_handles)\n",
    "    plt.xlabel(f1)\n",
    "    plt.ylabel(f2)\n",
    "    plt.title(f\"{f1} vs {f2}\")\n",
    "\n",
    "def scatterThreeFeatures(irisData, f1: str, f2: str, f3: str):\n",
    "    classToColor = {\"Iris-versicolor\" : \"blue\",\n",
    "                    \"Iris-setosa\": \"purple\",\n",
    "                    \"Iris-virginica\": \"hotpink\"}\n",
    "\n",
    "    fig = plt.figure()\n",
    "    ax = fig.add_subplot(111, projection='3d')\n",
    "    ax.scatter(irisData[f1],\n",
    "                irisData[f2],\n",
    "                irisData[f3],\n",
    "                c=irisData[\"Class\"].map(classToColor),\n",
    "                marker='x')\n",
    "    # Create custom legend handles\n",
    "    legend_handles = [\n",
    "        Line2D([0], [0], color=color, marker='x', linestyle='None', label=class_name)\n",
    "        for class_name, color in classToColor.items()\n",
    "    ]\n",
    "\n",
    "    ax.legend(handles=legend_handles)\n",
    "    ax.set_xlabel(f1)\n",
    "    ax.set_ylabel(f2)\n",
    "    ax.set_zlabel(f3)\n",
    "    ax.set_title(f\"{f1} vs {f2} vs {f3}\")\n",
    "    "
   ]
  },
  {
   "cell_type": "code",
   "execution_count": 4,
   "metadata": {},
   "outputs": [],
   "source": [
    "for i in range(4):\n",
    "    for j in range(i+1,4):\n",
    "        scatterTwoFeatures(irisData,features[i],features[j])\n"
   ]
  },
  {
   "cell_type": "code",
   "execution_count": 6,
   "metadata": {},
   "outputs": [],
   "source": [
    "%matplotlib qt\n",
    "for i in range(4):\n",
    "    scatterThreeFeatures(irisData,features[i % 4],features[(i+1)%4],features[(i+2)%4])"
   ]
  }
 ],
 "metadata": {
  "kernelspec": {
   "display_name": "useful",
   "language": "python",
   "name": "python3"
  },
  "language_info": {
   "codemirror_mode": {
    "name": "ipython",
    "version": 3
   },
   "file_extension": ".py",
   "mimetype": "text/x-python",
   "name": "python",
   "nbconvert_exporter": "python",
   "pygments_lexer": "ipython3",
   "version": "3.13.2"
  }
 },
 "nbformat": 4,
 "nbformat_minor": 2
}

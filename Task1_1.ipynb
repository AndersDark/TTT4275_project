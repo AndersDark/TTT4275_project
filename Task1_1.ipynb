{
 "cells": [
  {
   "cell_type": "markdown",
   "metadata": {},
   "source": [
    "# Code"
   ]
  },
  {
   "cell_type": "markdown",
   "metadata": {},
   "source": [
    "### Imports"
   ]
  },
  {
   "cell_type": "code",
   "execution_count": null,
   "metadata": {},
   "outputs": [],
   "source": [
    "import pandas as pd\n",
    "import numpy as np\n",
    "from task1_utils import generateDataVectors,forward_pass,loss,getConfused,getErrorRate\n",
    "import matplotlib.pyplot as plt"
   ]
  },
  {
   "cell_type": "markdown",
   "metadata": {},
   "source": [
    "### Data loading"
   ]
  },
  {
   "cell_type": "code",
   "execution_count": null,
   "metadata": {},
   "outputs": [],
   "source": [
    "features = [\"SepalLength\",\n",
    "            \"SepalWidth\",\n",
    "            \"PetalLength\",\n",
    "            \"PetalWidth\",\n",
    "            \"Class\"]\n",
    "\n",
    "irisData = pd.read_csv(\"data/IrisData/iris.data\", \n",
    "                   names=features)\n",
    "\n",
    "# Take 30 first samples of each Class for training\n",
    "train_data = irisData.groupby(\"Class\").head(30)\n",
    "# For last 30 samles of each Class for training uncomment the line below\n",
    "# train_data = irisData.groupby(\"Class\").tail(30)\n",
    "\n",
    "test_data = irisData.drop(train_data.index)\n",
    "train_data.reset_index(drop=True, inplace=True)\n",
    "test_data.reset_index(drop=True, inplace=True)"
   ]
  },
  {
   "cell_type": "code",
   "execution_count": null,
   "metadata": {},
   "outputs": [],
   "source": [
    "train_data.head()"
   ]
  },
  {
   "cell_type": "code",
   "execution_count": null,
   "metadata": {},
   "outputs": [],
   "source": [
    "# Generate data vectors\n",
    "x_train, t_train = generateDataVectors(train_data)\n",
    "x_test, t_test = generateDataVectors(test_data)\n",
    "\n",
    "\n",
    "print(x_train.shape, t_train.shape, x_test.shape, t_test.shape)"
   ]
  },
  {
   "cell_type": "markdown",
   "metadata": {},
   "source": [
    "### Training"
   ]
  },
  {
   "cell_type": "code",
   "execution_count": null,
   "metadata": {},
   "outputs": [],
   "source": [
    "# initialize the weights\n",
    "np.random.seed(42)\n",
    "\n",
    "n_features = x_train.shape[0]\n",
    "n_classes = t_train.shape[0]\n",
    "\n",
    "W = np.random.randn(n_classes,n_features)\n",
    "print(W)"
   ]
  },
  {
   "cell_type": "code",
   "execution_count": null,
   "metadata": {},
   "outputs": [],
   "source": [
    "MSE_list = []\n",
    "alpha = 0.001\n",
    "iterations = 10**6\n",
    "\n",
    "for i in range(iterations):\n",
    "    g = forward_pass(x_train, W)\n",
    "\n",
    "    MSE = loss(g,t_train)\n",
    "    MSE_list.append(MSE)\n",
    "\n",
    "    # Backward pass\n",
    "    grad_MSE = ((g-t_train)*g*(1-g))@x_train.transpose()\n",
    "\n",
    "    W -= alpha*grad_MSE"
   ]
  },
  {
   "cell_type": "code",
   "execution_count": null,
   "metadata": {},
   "outputs": [],
   "source": [
    "# Plot the MSE\n",
    "plt.plot(range(len(MSE_list)), MSE_list)\n",
    "plt.xlabel(\"Iteration\")\n",
    "plt.ylabel(\"Mean Squared Error (MSE)\")\n",
    "plt.title(\"MSE during training\")\n",
    "plt.grid()\n",
    "plt.show()"
   ]
  },
  {
   "cell_type": "markdown",
   "metadata": {},
   "source": [
    "### Prediction"
   ]
  },
  {
   "cell_type": "code",
   "execution_count": null,
   "metadata": {},
   "outputs": [],
   "source": [
    "predictions_train = forward_pass(x_train,W)\n",
    "predictions_test = forward_pass(x_test,W)\n",
    "\n",
    "train_conf_matrix = getConfused(predictions_train, t_train)\n",
    "test_conf_matrix = getConfused(predictions_test, t_test)\n",
    "\n",
    "print(train_conf_matrix)\n",
    "print(f\"{getErrorRate(train_conf_matrix):.4f}\")\n",
    "print(test_conf_matrix)\n",
    "print(f\"{getErrorRate(test_conf_matrix):.4f}\")"
   ]
  },
  {
   "cell_type": "markdown",
   "metadata": {},
   "source": [
    "# Results"
   ]
  },
  {
   "cell_type": "markdown",
   "metadata": {},
   "source": [
    "## First 30 used for training, last 20 used for testing:\n",
    "\n",
    "MSE = 7.898\n",
    "\n",
    "### Validation with training data:\n",
    "[30.  0.  0.]\\\n",
    "[ 0. 29.  1.]\\\n",
    "[ 0.  0. 30.]\n",
    "\n",
    "error rate = 0.0111\n",
    "\n",
    "### Validation with test data:\n",
    "[20.  0.  0.]\\\n",
    "[ 0. 19.  1.]\\\n",
    "[ 0.  1. 19.]\n",
    "\n",
    "error rate = 0.0333\n",
    "\n",
    "## First 20 used for testing, last 30 used for training:\n",
    "\n",
    "MSE = 7.545\n",
    "\n",
    "### Validation with training data:\n",
    "\n",
    " [30.  0.  0.]\\\n",
    " [ 0. 27.  3.]\\\n",
    " [ 0.  2. 28.]\n",
    "\n",
    "0.0556\n",
    "\n",
    "\n",
    "### Validation with test data:\n",
    "\n",
    "[20.  0.  0.]\\\n",
    "[ 0. 20.  0.]\\\n",
    "[ 0.  1. 19.]\n",
    "\n",
    "0.0167\n"
   ]
  }
 ],
 "metadata": {
  "kernelspec": {
   "display_name": "ttt4275",
   "language": "python",
   "name": "python3"
  },
  "language_info": {
   "codemirror_mode": {
    "name": "ipython",
    "version": 3
   },
   "file_extension": ".py",
   "mimetype": "text/x-python",
   "name": "python",
   "nbconvert_exporter": "python",
   "pygments_lexer": "ipython3",
   "version": "3.10.16"
  }
 },
 "nbformat": 4,
 "nbformat_minor": 2
}

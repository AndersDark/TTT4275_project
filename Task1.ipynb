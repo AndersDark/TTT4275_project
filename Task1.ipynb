{
 "cells": [
  {
   "cell_type": "code",
   "execution_count": null,
   "metadata": {},
   "outputs": [],
   "source": [
    "import pandas as pd\n",
    "import numpy as np\n",
    "from task1_utils import generateDataVectors,forward_pass,loss,getConfused,getErrorRate"
   ]
  },
  {
   "cell_type": "code",
   "execution_count": null,
   "metadata": {},
   "outputs": [],
   "source": [
    "features = [\"SepalLength\",\n",
    "            \"SepalWidth\",\n",
    "            \"PetalLength\",\n",
    "            \"PetalWidth\",\n",
    "            \"Class\"]\n",
    "\n",
    "irisData = pd.read_csv(\"data/IrisData/iris.data\", \n",
    "                   names=features)\n",
    "\n",
    "# Take 30 first samples of each Class for training\n",
    "train_data = irisData.groupby(\"Class\").head(30)\n",
    "test_data = irisData.drop(train_data.index)\n",
    "train_data.reset_index(drop=True, inplace=True)\n",
    "test_data.reset_index(drop=True, inplace=True)"
   ]
  },
  {
   "cell_type": "code",
   "execution_count": 12,
   "metadata": {},
   "outputs": [
    {
     "data": {
      "application/vnd.microsoft.datawrangler.viewer.v0+json": {
       "columns": [
        {
         "name": "index",
         "rawType": "int64",
         "type": "integer"
        },
        {
         "name": "SepalLenght",
         "rawType": "float64",
         "type": "float"
        },
        {
         "name": "SepalWidth",
         "rawType": "float64",
         "type": "float"
        },
        {
         "name": "PetalLenght",
         "rawType": "float64",
         "type": "float"
        },
        {
         "name": "PetalWidth",
         "rawType": "float64",
         "type": "float"
        },
        {
         "name": "Class",
         "rawType": "object",
         "type": "string"
        }
       ],
       "conversionMethod": "pd.DataFrame",
       "ref": "b52d4a0f-260e-4d88-9123-d7dbdb37deaa",
       "rows": [
        [
         "0",
         "5.1",
         "3.5",
         "1.4",
         "0.2",
         "Iris-setosa"
        ],
        [
         "1",
         "4.9",
         "3.0",
         "1.4",
         "0.2",
         "Iris-setosa"
        ],
        [
         "2",
         "4.7",
         "3.2",
         "1.3",
         "0.2",
         "Iris-setosa"
        ],
        [
         "3",
         "4.6",
         "3.1",
         "1.5",
         "0.2",
         "Iris-setosa"
        ],
        [
         "4",
         "5.0",
         "3.6",
         "1.4",
         "0.2",
         "Iris-setosa"
        ]
       ],
       "shape": {
        "columns": 5,
        "rows": 5
       }
      },
      "text/html": [
       "<div>\n",
       "<style scoped>\n",
       "    .dataframe tbody tr th:only-of-type {\n",
       "        vertical-align: middle;\n",
       "    }\n",
       "\n",
       "    .dataframe tbody tr th {\n",
       "        vertical-align: top;\n",
       "    }\n",
       "\n",
       "    .dataframe thead th {\n",
       "        text-align: right;\n",
       "    }\n",
       "</style>\n",
       "<table border=\"1\" class=\"dataframe\">\n",
       "  <thead>\n",
       "    <tr style=\"text-align: right;\">\n",
       "      <th></th>\n",
       "      <th>SepalLenght</th>\n",
       "      <th>SepalWidth</th>\n",
       "      <th>PetalLenght</th>\n",
       "      <th>PetalWidth</th>\n",
       "      <th>Class</th>\n",
       "    </tr>\n",
       "  </thead>\n",
       "  <tbody>\n",
       "    <tr>\n",
       "      <th>0</th>\n",
       "      <td>5.1</td>\n",
       "      <td>3.5</td>\n",
       "      <td>1.4</td>\n",
       "      <td>0.2</td>\n",
       "      <td>Iris-setosa</td>\n",
       "    </tr>\n",
       "    <tr>\n",
       "      <th>1</th>\n",
       "      <td>4.9</td>\n",
       "      <td>3.0</td>\n",
       "      <td>1.4</td>\n",
       "      <td>0.2</td>\n",
       "      <td>Iris-setosa</td>\n",
       "    </tr>\n",
       "    <tr>\n",
       "      <th>2</th>\n",
       "      <td>4.7</td>\n",
       "      <td>3.2</td>\n",
       "      <td>1.3</td>\n",
       "      <td>0.2</td>\n",
       "      <td>Iris-setosa</td>\n",
       "    </tr>\n",
       "    <tr>\n",
       "      <th>3</th>\n",
       "      <td>4.6</td>\n",
       "      <td>3.1</td>\n",
       "      <td>1.5</td>\n",
       "      <td>0.2</td>\n",
       "      <td>Iris-setosa</td>\n",
       "    </tr>\n",
       "    <tr>\n",
       "      <th>4</th>\n",
       "      <td>5.0</td>\n",
       "      <td>3.6</td>\n",
       "      <td>1.4</td>\n",
       "      <td>0.2</td>\n",
       "      <td>Iris-setosa</td>\n",
       "    </tr>\n",
       "  </tbody>\n",
       "</table>\n",
       "</div>"
      ],
      "text/plain": [
       "   SepalLenght  SepalWidth  PetalLenght  PetalWidth        Class\n",
       "0          5.1         3.5          1.4         0.2  Iris-setosa\n",
       "1          4.9         3.0          1.4         0.2  Iris-setosa\n",
       "2          4.7         3.2          1.3         0.2  Iris-setosa\n",
       "3          4.6         3.1          1.5         0.2  Iris-setosa\n",
       "4          5.0         3.6          1.4         0.2  Iris-setosa"
      ]
     },
     "execution_count": 12,
     "metadata": {},
     "output_type": "execute_result"
    }
   ],
   "source": [
    "train_data.head()"
   ]
  },
  {
   "cell_type": "code",
   "execution_count": 13,
   "metadata": {},
   "outputs": [
    {
     "name": "stdout",
     "output_type": "stream",
     "text": [
      "(5, 90) (3, 90) (5, 60) (3, 60)\n",
      "(5, 150) (3, 150)\n"
     ]
    }
   ],
   "source": [
    "# Generate data vectors\n",
    "x_train, t_train = generateDataVectors(train_data)\n",
    "x_test, t_test = generateDataVectors(test_data)\n",
    "x_total = np.hstack((x_train, x_test))\n",
    "t_total = np.hstack((t_train, t_test))\n",
    "\n",
    "\n",
    "print(x_train.shape, t_train.shape, x_test.shape, t_test.shape)\n",
    "print(x_total.shape, t_total.shape)"
   ]
  },
  {
   "cell_type": "code",
   "execution_count": 14,
   "metadata": {},
   "outputs": [
    {
     "data": {
      "text/plain": [
       "array([[ 0.49671415, -0.1382643 ,  0.64768854,  1.52302986, -0.23415337],\n",
       "       [-0.23413696,  1.57921282,  0.76743473, -0.46947439,  0.54256004],\n",
       "       [-0.46341769, -0.46572975,  0.24196227, -1.91328024, -1.72491783]])"
      ]
     },
     "execution_count": 14,
     "metadata": {},
     "output_type": "execute_result"
    }
   ],
   "source": [
    "# initialize the weights\n",
    "np.random.seed(42)\n",
    "\n",
    "n_features = x_train.shape[0]\n",
    "n_classes = t_train.shape[0]\n",
    "\n",
    "W = np.random.randn(n_classes,n_features)\n",
    "W"
   ]
  },
  {
   "cell_type": "code",
   "execution_count": 15,
   "metadata": {},
   "outputs": [
    {
     "name": "stdout",
     "output_type": "stream",
     "text": [
      "7.897670602361986\n"
     ]
    }
   ],
   "source": [
    "for i in range(10**6):\n",
    "    # Forward pass\n",
    "    g = forward_pass(x_train, W)\n",
    "\n",
    "    # Loss\n",
    "    MSE = loss(g,t_train)\n",
    "\n",
    "    # Backward pass\n",
    "    grad_MSE = ((g-t_train)*g*(1-g))@x_train.transpose()\n",
    "\n",
    "    alpha = 0.001\n",
    "\n",
    "    W = W - alpha*grad_MSE\n",
    "\n",
    "print(MSE)\n",
    "\n"
   ]
  },
  {
   "cell_type": "code",
   "execution_count": 16,
   "metadata": {},
   "outputs": [
    {
     "name": "stdout",
     "output_type": "stream",
     "text": [
      "[[30.  0.  0.]\n",
      " [ 0. 29.  1.]\n",
      " [ 0.  0. 30.]]\n",
      "0.0112\n",
      "[[20.  0.  0.]\n",
      " [ 0. 19.  1.]\n",
      " [ 0.  1. 19.]]\n",
      "0.0345\n"
     ]
    }
   ],
   "source": [
    "predictions_train = forward_pass(x_train,W)\n",
    "predictions_test = forward_pass(x_test,W)\n",
    "\n",
    "train_conf_matrix = getConfused(predictions_train, t_train)\n",
    "test_conf_matrix = getConfused(predictions_test, t_test)\n",
    "\n",
    "\n",
    "\n",
    "print(train_conf_matrix)\n",
    "print(f\"{getErrorRate(train_conf_matrix):.4f}\")\n",
    "print(test_conf_matrix)\n",
    "print(f\"{getErrorRate(test_conf_matrix):.4f}\")"
   ]
  },
  {
   "cell_type": "markdown",
   "metadata": {},
   "source": [
    "## First 30 are train last 20 are test:\n",
    "\n",
    "MSE = 7.898\n",
    "\n",
    "### Validation with training data:\n",
    "[30.  0.  0.]\\\n",
    "[ 0. 29.  1.]\\\n",
    "[ 0.  0. 30.]\n",
    "\n",
    "error rate = 0.0112\n",
    "\n",
    "### Validation with test data:\n",
    "[20.  0.  0.]\\\n",
    "[ 0. 19.  1.]\\\n",
    "[ 0.  1. 19.]\n",
    "\n",
    "error rate = 0.0345\n",
    "\n",
    "## First 20 are test last 30 are train:\n",
    "\n",
    "MSE = 7.545\n",
    "\n",
    "### Validation with training data:\n",
    "\n",
    " [30.  0.  0.]\\\n",
    " [ 0. 27.  3.]\\\n",
    " [ 0.  2. 28.]\n",
    "\n",
    "0.0588\n",
    "\n",
    "\n",
    "### Validation with test data:\n",
    "\n",
    "[[20.  0.  0.]\\\n",
    " [ 0. 20.  0.]\\\n",
    " [ 0.  1. 19.]]\n",
    "\n",
    "0.0169\n"
   ]
  }
 ],
 "metadata": {
  "kernelspec": {
   "display_name": "tdt4265",
   "language": "python",
   "name": "python3"
  },
  "language_info": {
   "codemirror_mode": {
    "name": "ipython",
    "version": 3
   },
   "file_extension": ".py",
   "mimetype": "text/x-python",
   "name": "python",
   "nbconvert_exporter": "python",
   "pygments_lexer": "ipython3",
   "version": "3.10.16"
  }
 },
 "nbformat": 4,
 "nbformat_minor": 2
}

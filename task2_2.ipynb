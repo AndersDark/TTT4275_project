{
 "cells": [
  {
   "cell_type": "markdown",
   "metadata": {},
   "source": [
    "### Import and load data"
   ]
  },
  {
   "cell_type": "code",
   "execution_count": null,
   "metadata": {},
   "outputs": [],
   "source": [
    "import numpy as np\n",
    "import matplotlib.pyplot as plt\n",
    "import seaborn as sns\n",
    "from scipy.spatial.distance import cdist\n",
    "import pickle\n",
    "from sklearn.cluster import KMeans"
   ]
  },
  {
   "cell_type": "code",
   "execution_count": null,
   "metadata": {},
   "outputs": [],
   "source": [
    "data = np.load('data/MNIST/data_all.npz')\n",
    "trainv = data['trainv']\n",
    "testv = data['testv']\n",
    "trainlab = data['trainlab']\n",
    "testlab = data['testlab']"
   ]
  },
  {
   "cell_type": "markdown",
   "metadata": {},
   "source": [
    "### Training and prediction"
   ]
  },
  {
   "cell_type": "code",
   "execution_count": null,
   "metadata": {},
   "outputs": [],
   "source": [
    "# Generate clusters\n",
    "n_clusters = 64\n",
    "clusterCenters = []\n",
    "for i in range(10):\n",
    "    train_data_class = trainv[trainlab == i]\n",
    "    kmeans = KMeans(n_clusters=n_clusters, random_state=420)\n",
    "    kmeans.fit(train_data_class)\n",
    "    clusterCenters.append(kmeans.cluster_centers_)\n",
    "\n",
    "clusterCenters = np.concatenate(clusterCenters)\n",
    "print(clusterCenters.shape)"
   ]
  },
  {
   "cell_type": "markdown",
   "metadata": {},
   "source": [
    "#### Single closest neighbour classification"
   ]
  },
  {
   "cell_type": "code",
   "execution_count": null,
   "metadata": {},
   "outputs": [],
   "source": [
    "def predict(cluster_vec, test_vec):\n",
    "    # Compute Euclidean distances\n",
    "    distances = cdist(test_vec, cluster_vec,metric='euclidean')\n",
    "    # Find the nearest neighbor\n",
    "    nearest_idx = np.argmin(distances,axis=1)\n",
    "    return np.floor(nearest_idx / 64).astype(int)"
   ]
  },
  {
   "cell_type": "markdown",
   "metadata": {},
   "source": [
    "Prediction ran for 1.3s"
   ]
  },
  {
   "cell_type": "code",
   "execution_count": null,
   "metadata": {},
   "outputs": [],
   "source": [
    "total_tests = testv.shape[0]\n",
    "predictions = []\n",
    "for i in range(int(total_tests/1000)):\n",
    "    test_batch = testv[i*1000:(i+1)*1000]\n",
    "\n",
    "    batch_pred = predict(clusterCenters, test_batch)\n",
    "\n",
    "    predictions.append(batch_pred)\n",
    "\n",
    "predictions = np.concatenate(predictions)\n",
    "predictions.shape"
   ]
  },
  {
   "cell_type": "code",
   "execution_count": null,
   "metadata": {},
   "outputs": [],
   "source": [
    "# Save predictions to file\n",
    "with open('predictions/mnist_NN_cluster_predictions.pkl', 'wb') as f:\n",
    "    pickle.dump(predictions, f)"
   ]
  },
  {
   "cell_type": "markdown",
   "metadata": {},
   "source": [
    "#### K closest neighbour classification"
   ]
  },
  {
   "cell_type": "code",
   "execution_count": null,
   "metadata": {},
   "outputs": [],
   "source": [
    "def KNN_predict(cluster_vec, test_vec, K):\n",
    "    # Compute Euclidean distances\n",
    "    distances = cdist(test_vec, cluster_vec,metric='euclidean')\n",
    "    # Find the K indexes for shortest distances\n",
    "    nearest_idx = np.argpartition(distances, kth=K-1, axis=1)[:, :K]\n",
    "\n",
    "    K_predicted_labels = np.floor(nearest_idx / 64).astype(int)\n",
    "\n",
    "    predicted_label_counts = np.apply_along_axis(lambda x: np.bincount(x, minlength=10), axis=1, arr=K_predicted_labels)\n",
    "\n",
    "    predictions = predicted_label_counts.argmax(axis=1)\n",
    "\n",
    "    return predictions"
   ]
  },
  {
   "cell_type": "markdown",
   "metadata": {},
   "source": [
    "Prediction ran for 1.3s"
   ]
  },
  {
   "cell_type": "code",
   "execution_count": null,
   "metadata": {},
   "outputs": [],
   "source": [
    "total_tests = testv.shape[0]\n",
    "predictions_7NN = []\n",
    "for i in range(int(total_tests/1000)):\n",
    "    test_batch = testv[i*1000:(i+1)*1000]\n",
    "\n",
    "    batch_pred = KNN_predict(clusterCenters, test_batch, 7)\n",
    "\n",
    "    predictions_7NN.append(batch_pred)\n",
    "\n",
    "predictions_7NN = np.concatenate(predictions_7NN)\n",
    "predictions_7NN.shape"
   ]
  },
  {
   "cell_type": "code",
   "execution_count": null,
   "metadata": {},
   "outputs": [],
   "source": [
    "# Save predictions to file\n",
    "with open('predictions/mnist_7NN_cluster_predictions.pkl', 'wb') as f:\n",
    "    pickle.dump(predictions_7NN, f)"
   ]
  },
  {
   "cell_type": "markdown",
   "metadata": {},
   "source": [
    "### Analysis"
   ]
  },
  {
   "cell_type": "markdown",
   "metadata": {},
   "source": [
    "#### Load predictions"
   ]
  },
  {
   "cell_type": "code",
   "execution_count": null,
   "metadata": {},
   "outputs": [],
   "source": [
    "# Load predictions\n",
    "with open('predictions/mnist_NN_cluster_predictions.pkl', 'rb') as f:\n",
    "    predictions = pickle.load(f)"
   ]
  },
  {
   "cell_type": "code",
   "execution_count": null,
   "metadata": {},
   "outputs": [],
   "source": [
    "# Load predictions\n",
    "with open('predictions/mnist_7NN_cluster_predictions.pkl', 'rb') as f:\n",
    "    predictions_7NN = pickle.load(f)"
   ]
  },
  {
   "cell_type": "markdown",
   "metadata": {},
   "source": [
    "#### Plot"
   ]
  },
  {
   "cell_type": "code",
   "execution_count": null,
   "metadata": {},
   "outputs": [],
   "source": [
    "def get_conf(pred):\n",
    "    if pred.shape != testlab.shape:\n",
    "        assert(\"shapes dont match\")\n",
    "\n",
    "    conf_matrix = np.zeros((10,10),dtype=int)\n",
    "    for i in range(pred.shape[0]):\n",
    "        conf_matrix[testlab[i],pred[i]] += 1\n",
    "\n",
    "    labels = np.arange(10).astype(str)\n",
    "\n",
    "    total_sum = np.sum(conf_matrix)\n",
    "    diag_sum = np.trace(conf_matrix)\n",
    "    err_rate = round((total_sum-diag_sum)/total_sum,4)*100\n",
    "\n",
    "    plt.figure(figsize=(6, 5))\n",
    "    sns.heatmap(conf_matrix, annot=True, fmt='d', cmap='Blues',\n",
    "                xticklabels=labels, yticklabels=labels)\n",
    "\n",
    "    plt.xlabel(\"Predicted Number\", fontsize = 12)\n",
    "    plt.ylabel(\"True Number\", fontsize = 12)\n",
    "    plt.title(f\"Confusion Matrix - Error Rate: {err_rate}%\")\n",
    "    plt.tight_layout()\n",
    "    plt.show()"
   ]
  },
  {
   "cell_type": "code",
   "execution_count": null,
   "metadata": {},
   "outputs": [],
   "source": [
    "get_conf(predictions)\n",
    "get_conf(predictions_7NN)"
   ]
  },
  {
   "cell_type": "code",
   "execution_count": null,
   "metadata": {},
   "outputs": [],
   "source": [
    "if predictions.shape != testlab.shape:\n",
    "    assert(\"shapes dont match\")\n",
    "\n",
    "conf_matrix = np.zeros((10,10),dtype=int)\n",
    "for i in range(predictions_7NN.shape[0]):\n",
    "    conf_matrix[testlab[i],predictions_7NN[i]] += 1\n",
    "\n",
    "labels = np.arange(10).astype(str)\n",
    "\n",
    "total_sum = np.sum(conf_matrix)\n",
    "diag_sum = np.trace(conf_matrix)\n",
    "err_rate = round((total_sum-diag_sum)/total_sum,4)*100\n",
    "\n",
    "from matplotlib.colors import LogNorm\n",
    "\n",
    "# True Positives: diagonal\n",
    "true_positives = np.diag(conf_matrix)\n",
    "\n",
    "# Total samples per class (sum of rows)\n",
    "class_totals = np.sum(conf_matrix, axis=1)\n",
    "\n",
    "# Avoid division by zero\n",
    "class_accuracy = np.divide(true_positives, class_totals, out=np.zeros_like(true_positives, dtype=float), where=class_totals!=0)\n",
    "\n",
    "# Convert to percentage\n",
    "class_accuracy_percent = np.round(class_accuracy * 100, 2)\n",
    "class_error_percent = 100 - class_accuracy_percent\n",
    "\n",
    "\n",
    "# Shifted matrix for log color\n",
    "conf_matrix_safe = conf_matrix + 1\n",
    "\n",
    "fig, ax = plt.subplots(1, 2, figsize=(12, 5), gridspec_kw={'width_ratios': [3, 1]})\n",
    "\n",
    "# Confusion Matrix\n",
    "sns.heatmap(conf_matrix_safe, annot=conf_matrix, fmt='d',\n",
    "            cmap='Blues', norm=LogNorm(vmin=1, vmax=conf_matrix_safe.max()),\n",
    "            xticklabels=labels, yticklabels=labels, ax=ax[0])\n",
    "\n",
    "ax[0].set_xlabel(\"Predicted Number\", fontsize=12)\n",
    "ax[0].set_ylabel(\"True Number\", fontsize=12)\n",
    "ax[0].set_title(f\"Confusion Matrix\\nError Rate: {err_rate}%\", fontsize=13)\n",
    "\n",
    "# Bar Plot: Accuracy per class\n",
    "ax[1].barh(labels, class_accuracy_percent, color='mediumseagreen', label='Correct')\n",
    "ax[1].barh(labels, class_error_percent, left=class_accuracy_percent, color='salmon', label='Incorrect')\n",
    "\n",
    "ax[1].set_xlim(0, 100)\n",
    "ax[1].set_xlabel(\"Classification %\")\n",
    "ax[1].set_title(\"Per-Class Accuracy\")\n",
    "ax[1].legend(loc='upper left')\n",
    "ax[1].invert_yaxis()  \n",
    "\n",
    "plt.tight_layout()\n",
    "plt.show()"
   ]
  },
  {
   "cell_type": "code",
   "execution_count": null,
   "metadata": {},
   "outputs": [],
   "source": [
    "wrong_idx = []\n",
    "for i in range(predictions.shape[0]):\n",
    "    if predictions[i] != testlab[i]:\n",
    "        wrong_idx.append(i)\n",
    "\n",
    "wrong_idx_7NN = []\n",
    "for i in range(predictions_7NN.shape[0]):\n",
    "    if predictions_7NN[i] != testlab[i]:\n",
    "        wrong_idx_7NN.append(i)"
   ]
  },
  {
   "cell_type": "code",
   "execution_count": null,
   "metadata": {},
   "outputs": [],
   "source": [
    "for i in range(4):\n",
    "    im_idx = wrong_idx_7NN[i]\n",
    "\n",
    "    print(f\"Predicted = {predictions[im_idx]}, Predicted_7NN = {predictions_7NN[im_idx]}, True label = {testlab[im_idx]}\")\n",
    "    x = testv[im_idx, :].reshape((28, 28))\n",
    "    plt.imshow(x, cmap=\"gray\")\n",
    "    plt.show()"
   ]
  }
 ],
 "metadata": {
  "kernelspec": {
   "display_name": "ttt4275",
   "language": "python",
   "name": "python3"
  },
  "language_info": {
   "codemirror_mode": {
    "name": "ipython",
    "version": 3
   },
   "file_extension": ".py",
   "mimetype": "text/x-python",
   "name": "python",
   "nbconvert_exporter": "python",
   "pygments_lexer": "ipython3",
   "version": "3.10.16"
  }
 },
 "nbformat": 4,
 "nbformat_minor": 2
}
